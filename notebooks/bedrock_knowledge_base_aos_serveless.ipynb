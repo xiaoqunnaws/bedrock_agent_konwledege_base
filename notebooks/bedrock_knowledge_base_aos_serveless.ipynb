{
 "cells": [
  {
   "cell_type": "markdown",
   "metadata": {},
   "source": [
    "# Bedrock Knowledge Base via Your own Opensearch Database\n",
    "\n",
    "If you have have any questions, please feel free to contact Hao Huang (tonyhh@amazon.com, GAIIC).\n"
   ]
  },
  {
   "cell_type": "markdown",
   "metadata": {},
   "source": [
    "### Step 1. Prepare python environments."
   ]
  },
  {
   "cell_type": "code",
   "execution_count": 1,
   "metadata": {},
   "outputs": [
    {
     "name": "stdout",
     "output_type": "stream",
     "text": [
      "Collecting opensearch-py\n",
      "  Downloading opensearch_py-2.4.2-py2.py3-none-any.whl.metadata (6.8 kB)\n",
      "Requirement already satisfied: urllib3>=1.26.18 in /Users/xiaoqunn/anaconda3/envs/temp/lib/python3.11/site-packages (from opensearch-py) (2.0.7)\n",
      "Requirement already satisfied: requests<3.0.0,>=2.4.0 in /Users/xiaoqunn/anaconda3/envs/temp/lib/python3.11/site-packages (from opensearch-py) (2.31.0)\n",
      "Requirement already satisfied: six in /Users/xiaoqunn/anaconda3/envs/temp/lib/python3.11/site-packages (from opensearch-py) (1.16.0)\n",
      "Requirement already satisfied: python-dateutil in /Users/xiaoqunn/anaconda3/envs/temp/lib/python3.11/site-packages (from opensearch-py) (2.8.2)\n",
      "Requirement already satisfied: certifi>=2022.12.07 in /Users/xiaoqunn/anaconda3/envs/temp/lib/python3.11/site-packages (from opensearch-py) (2023.11.17)\n",
      "Requirement already satisfied: charset-normalizer<4,>=2 in /Users/xiaoqunn/anaconda3/envs/temp/lib/python3.11/site-packages (from requests<3.0.0,>=2.4.0->opensearch-py) (3.3.2)\n",
      "Requirement already satisfied: idna<4,>=2.5 in /Users/xiaoqunn/anaconda3/envs/temp/lib/python3.11/site-packages (from requests<3.0.0,>=2.4.0->opensearch-py) (3.6)\n",
      "Downloading opensearch_py-2.4.2-py2.py3-none-any.whl (258 kB)\n",
      "\u001b[2K   \u001b[90m━━━━━━━━━━━━━━━━━━━━━━━━━━━━━━━━━━━━━━━\u001b[0m \u001b[32m258.6/258.6 kB\u001b[0m \u001b[31m563.5 kB/s\u001b[0m eta \u001b[36m0:00:00\u001b[0m00:01\u001b[0m00:01\u001b[0m\n",
      "\u001b[?25hInstalling collected packages: opensearch-py\n",
      "Successfully installed opensearch-py-2.4.2\n",
      "Requirement already satisfied: requests-aws4auth in /Users/xiaoqunn/anaconda3/envs/temp/lib/python3.11/site-packages (1.2.3)\n",
      "Requirement already satisfied: requests in /Users/xiaoqunn/anaconda3/envs/temp/lib/python3.11/site-packages (from requests-aws4auth) (2.31.0)\n",
      "Requirement already satisfied: six in /Users/xiaoqunn/anaconda3/envs/temp/lib/python3.11/site-packages (from requests-aws4auth) (1.16.0)\n",
      "Requirement already satisfied: charset-normalizer<4,>=2 in /Users/xiaoqunn/anaconda3/envs/temp/lib/python3.11/site-packages (from requests->requests-aws4auth) (3.3.2)\n",
      "Requirement already satisfied: idna<4,>=2.5 in /Users/xiaoqunn/anaconda3/envs/temp/lib/python3.11/site-packages (from requests->requests-aws4auth) (3.6)\n",
      "Requirement already satisfied: urllib3<3,>=1.21.1 in /Users/xiaoqunn/anaconda3/envs/temp/lib/python3.11/site-packages (from requests->requests-aws4auth) (2.0.7)\n",
      "Requirement already satisfied: certifi>=2017.4.17 in /Users/xiaoqunn/anaconda3/envs/temp/lib/python3.11/site-packages (from requests->requests-aws4auth) (2023.11.17)\n"
     ]
    }
   ],
   "source": [
    "!pip install opensearch-py\n",
    "!pip install requests-aws4auth"
   ]
  },
  {
   "cell_type": "markdown",
   "metadata": {},
   "source": [
    "### Step 2. Authentication."
   ]
  },
  {
   "cell_type": "code",
   "execution_count": 2,
   "metadata": {},
   "outputs": [],
   "source": [
    "from opensearchpy import OpenSearch, RequestsHttpConnection\n",
    "from requests_aws4auth import AWS4Auth\n",
    "import boto3\n",
    "\n",
    "\n",
    "aos_ssl_client = boto3.client('opensearchserverless', 'us-east-1')\n",
    "service = 'aoss'\n",
    "region = 'us-east-1'\n",
    "credentials = boto3.Session().get_credentials()\n",
    "awsauth = AWS4Auth(credentials.access_key, credentials.secret_key,\n",
    "                   region, service, session_token=credentials.token)"
   ]
  },
  {
   "cell_type": "markdown",
   "metadata": {},
   "source": [
    "### Step 3. Build Amazon Opensearch Serveless Vector Database"
   ]
  },
  {
   "cell_type": "code",
   "execution_count": null,
   "metadata": {},
   "outputs": [],
   "source": [
    "# Create Encryption Policy\n",
    "response = aos_ssl_client.create_security_policy(\n",
    "    description='Encryption policy for bedrock-knowledge-* collections',\n",
    "    name='bedrock-policy-test-v1',\n",
    "    policy=\"\"\"\n",
    "        {\n",
    "            \\\"Rules\\\":[\n",
    "                {\n",
    "                    \\\"ResourceType\\\":\\\"collection\\\",\n",
    "                    \\\"Resource\\\":[\n",
    "                        \\\"collection\\/bedrock-knowledge-*\\\"\n",
    "                    ]\n",
    "                }\n",
    "            ],\n",
    "            \\\"AWSOwnedKey\\\":true\n",
    "        }\n",
    "        \"\"\",\n",
    "    type='encryption'\n",
    ")\n",
    "print('\\nEncryption policy created:')\n",
    "print(response)"
   ]
  },
  {
   "cell_type": "code",
   "execution_count": null,
   "metadata": {},
   "outputs": [],
   "source": [
    "# Create Network Policy\n",
    "response = aos_ssl_client.create_security_policy(\n",
    "    description='Network policy for bedrock collections',\n",
    "    name='bedrock-policy-test-v1',\n",
    "    policy=\"\"\"\n",
    "            [{\n",
    "                \\\"Description\\\":\\\"Public access for bedrock-policy-test collection\\\",\n",
    "                \\\"Rules\\\":[\n",
    "                    {\n",
    "                        \\\"ResourceType\\\":\\\"dashboard\\\",\n",
    "                        \\\"Resource\\\":[\\\"collection\\/bedrock-knowledge-*\\\"]\n",
    "                    },\n",
    "                    {\n",
    "                        \\\"ResourceType\\\":\\\"collection\\\",\n",
    "                        \\\"Resource\\\":[\\\"collection\\/bedrock-knowledge-*\\\"]\n",
    "                    }\n",
    "                ],\n",
    "                \\\"AllowFromPublic\\\":true\n",
    "            }]\n",
    "            \"\"\",\n",
    "    type='network'\n",
    ")\n",
    "print('\\nNetwork policy created:')\n",
    "print(response)"
   ]
  },
  {
   "cell_type": "code",
   "execution_count": null,
   "metadata": {},
   "outputs": [],
   "source": [
    "# Create Data Access Policy\n",
    "response = aos_ssl_client.create_access_policy(\n",
    "    description='Data access policy for bedrock-policy-test collections',\n",
    "    name='bedrock-policy-test-v1',\n",
    "    policy=\"\"\"\n",
    "        [{\n",
    "            \\\"Rules\\\":[\n",
    "                {\n",
    "                    \\\"Resource\\\":[\n",
    "                        \\\"index\\/bedrock-knowledge-*\\/*\\\"\n",
    "                    ],\n",
    "                    \\\"Permission\\\":[\n",
    "                        \\\"aoss:CreateIndex\\\",\n",
    "                        \\\"aoss:DeleteIndex\\\",\n",
    "                        \\\"aoss:UpdateIndex\\\",\n",
    "                        \\\"aoss:DescribeIndex\\\",\n",
    "                        \\\"aoss:ReadDocument\\\",\n",
    "                        \\\"aoss:WriteDocument\\\"\n",
    "                    ],\n",
    "                    \\\"ResourceType\\\": \\\"index\\\"\n",
    "                },\n",
    "                {\n",
    "                    \\\"Resource\\\":[\n",
    "                        \\\"collection\\/bedrock-knowledge-*\\\"\n",
    "                    ],\n",
    "                    \\\"Permission\\\":[\n",
    "                        \\\"aoss:CreateCollectionItems\\\",\n",
    "                        \\\"aoss:DeleteCollectionItems\\\",\n",
    "                        \\\"aoss:UpdateCollectionItems\\\",\n",
    "                        \\\"aoss:DescribeCollectionItems\\\"\n",
    "                    ],\n",
    "                    \\\"ResourceType\\\": \\\"collection\\\"\n",
    "                }\n",
    "            ],\n",
    "            \\\"Principal\\\":[\n",
    "                \\\"arn:aws:iam::{your-account-id}:role\\/Admin\"\n",
    "                \\\"arn:aws:iam::{your-account-id}:user\\/rag-dxq\"\n",
    "            ]\n",
    "        }]\n",
    "        \"\"\",\n",
    "    type='data'\n",
    ")\n",
    "print('\\nAccess policy created:')\n",
    "print(response)"
   ]
  },
  {
   "cell_type": "code",
   "execution_count": null,
   "metadata": {},
   "outputs": [],
   "source": [
    "# Create Collection\n",
    "response = aos_ssl_client.create_collection(\n",
    "    name=\"bedrock-knowledge-base-invoice\",\n",
    "    type='VECTORSEARCH'\n",
    ")\n",
    "print(response)"
   ]
  },
  {
   "cell_type": "markdown",
   "metadata": {},
   "source": [
    "### Step.4 Insert Knowledge to AOS"
   ]
  },
  {
   "cell_type": "markdown",
   "metadata": {},
   "source": [
    "- Create Index via OpenSearch Web\n",
    "    - click `Serverless->Collections->bedrock-knowledge-base-test-v1`\n",
    "    - click `Create vector index` in the top of web\n",
    "    - Vector index name -> \"bedrock-test-index-search-v1\" You can set your own index name here\n",
    "    - create\n",
    "        - Vector fields\n",
    "            - \"bedrock-knowledge-base-default-vector\" `float` `Vector fields` `1536 Dimensions and Cosine Distance type for Titan Embedding model`\n",
    "        - Metadata management \n",
    "            - \"id\" string `Filterable=True`\n",
    "            - \"AMAZON_BEDROCK_METADATA\" string  `Filterable=False`\n",
    "            - \"AMAZON_BEDROCK_TEXT_CHUNK\": string `Filterable=True`"
   ]
  },
  {
   "cell_type": "code",
   "execution_count": null,
   "metadata": {},
   "outputs": [],
   "source": [
    "# Get Collection Client\n",
    "response = aos_ssl_client.batch_get_collection(names=[\"bedrock-knowledge-base-invoice\"])\n",
    "host = (response['collectionDetails'][0]['collectionEndpoint'])\n",
    "final_host = host.replace(\"https://\", \"\")\n",
    "print(final_host)\n",
    "client = OpenSearch(\n",
    "    hosts=[{'host': final_host, 'port': 443}],\n",
    "    http_auth=awsauth,\n",
    "    use_ssl=True,\n",
    "    verify_certs=True,\n",
    "    connection_class=RequestsHttpConnection,\n",
    "    timeout=300\n",
    ")"
   ]
  },
  {
   "cell_type": "markdown",
   "metadata": {},
   "source": [
    "Using the following code to insert knowledge to AOS.\n",
    "\n",
    "Please note:\n",
    " - We need have four fields: `vector`, `text`, `id` and `metadata`;\n",
    " - the matadata must follow the format : `{\"source\":\"s3_path\"}`. Bedrock Knowledge Base Test will give the reference (link to s3 path). If you don't follow the format, the web will raise Error.\n",
    " - You can use `your own chunking strategy` here."
   ]
  },
  {
   "cell_type": "code",
   "execution_count": null,
   "metadata": {},
   "outputs": [],
   "source": [
    "# Insert Knowledge\n",
    "\n",
    "import json\n",
    "import boto3\n",
    "def create_vector_embedding_with_bedrock(text, s3_path, embedding_modelId='amazon.titan-embed-text-v1'):\n",
    "    brt = boto3.client(service_name='bedrock-runtime', region_name='us-east-1')\n",
    "    body = json.dumps({\n",
    "        \"inputText\": text\n",
    "    })\n",
    "\n",
    "    accept = 'application/json'\n",
    "    contentType = 'application/json'\n",
    "    response = brt.invoke_model(body=body, modelId=embedding_modelId, accept=accept, contentType=contentType)\n",
    "    response_body = json.loads(response.get('body').read())\n",
    "    embedding = response_body['embedding']\n",
    "    info = {\n",
    "        \"AMAZON_BEDROCK_METADATA\": '{{\"source\":\"{}\"}}'.format(s3_path), \n",
    "        \"AMAZON_BEDROCK_TEXT_CHUNK\": text, \n",
    "        \"bedrock-knowledge-base-default-vector\": embedding, \n",
    "        \"id\": \"0\"\n",
    "        }\n",
    "    return info\n",
    "\n",
    "insert_body = create_vector_embedding_with_bedrock(\n",
    "    text=\"使用单位线上申请是否一定和线下资料申请时使用单位 保持一致?如果想添加使用单位后续如何添加申请?\",\n",
    "    s3_path=\"s3://test\"\n",
    "    )\n",
    "\n",
    "print(insert_body)\n",
    "# Add a document to the index.\n",
    "response = client.index(\n",
    "    index='bedrock-knowledge-base-invoice',\n",
    "    body=insert_body,\n",
    ")\n",
    "print('\\nDocument added:')\n",
    "print(response)"
   ]
  },
  {
   "cell_type": "markdown",
   "metadata": {},
   "source": [
    "### Step.5 Create Bedrock Knowledge Base\n",
    "\n",
    "Now, we can go to Bedrock page to create our Knowledge Base chatbot. To create knowledge base, we need to go though 4 steps:\n",
    " - 1. Provide knowledge base details\n",
    "    - you need to provide your own `Knowledge base name` and `Knowledge base description`\n",
    "    - you need to select or create a IAM service role. Please make sure the role have AOS Access permission. (I give FullAccess)\n",
    "- 2.Set up data source\n",
    "    - you need to provide Data source name.\n",
    "    - you need to give a s3 path (path your file stored)\n",
    "- 3. Configure vector store\n",
    "    - select `Choose a vector store you have created`\n",
    "    - select `Vector engine for Amazon OpenSearch Serverless`\n",
    "    - provide the `Collection ARN`, `Vector index name`, `Vector field`, `Text field`, `Bedrock-managed metadata field`. If you follow this tutorial, the corresponding info is `Your ARN`, `bedrock-knowledge-base-test-v1`, `bedrock-knowledge-base-default-vector`, `AMAZON_BEDROCK_TEXT_CHUNK`, `AMAZON_BEDROCK_METADATA`.\n",
    "- 4. Review and create\n",
    "    - **Before you finally create the knowledge, please add the Knowledge Base service role to Your AOS data access policy, ensuring the Knowledge Base can access your AOS**\n",
    "    - create the knowledge base!\n"
   ]
  },
  {
   "cell_type": "markdown",
   "metadata": {},
   "source": [
    "### (Optional) Step 6. Test your Knowledge Base\n",
    "\n",
    "You need to first sync data then test your knowledge base. Please note that if your s3 path has file, it will be automaticlly split to chunks and insert to vector database. So, if you don't want to repeatly insert same knowledge (or use you own chunking strategy), please provide a empty s3 folder.\n"
   ]
  }
 ],
 "metadata": {
  "kernelspec": {
   "display_name": "base",
   "language": "python",
   "name": "python3"
  },
  "language_info": {
   "codemirror_mode": {
    "name": "ipython",
    "version": 3
   },
   "file_extension": ".py",
   "mimetype": "text/x-python",
   "name": "python",
   "nbconvert_exporter": "python",
   "pygments_lexer": "ipython3",
   "version": "3.11.5"
  }
 },
 "nbformat": 4,
 "nbformat_minor": 2
}
